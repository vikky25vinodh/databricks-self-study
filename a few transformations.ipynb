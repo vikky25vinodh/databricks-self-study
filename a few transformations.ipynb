{
 "cells": [
  {
   "cell_type": "code",
   "execution_count": 0,
   "metadata": {
    "application/vnd.databricks.v1+cell": {
     "cellMetadata": {
      "byteLimit": 2048000,
      "rowLimit": 10000
     },
     "inputWidgets": {},
     "nuid": "990eb405-287b-4fff-b5ce-7d6953213550",
     "showTitle": false,
     "tableResultSettingsMap": {},
     "title": ""
    }
   },
   "outputs": [],
   "source": [
    "from pyspark.sql.functions import col, lit, when, concat_ws\n",
    "\n",
    "data=[(\"vikky\",23,50000),(\"sam\",21,40000),(\"hema\",22,35000)]\n",
    "df=spark.createDataFrame(data,['name','age','salary'])\n",
    "#display(df)\n",
    "\n",
    "#select_df=df.select(\"name\").show()\n",
    "#remove_df=df.drop(\"age\").show()\n",
    "#with_col_df=df.withColumn(\"bonus\",col(\"salary\")*0.1).show()\n",
    "#rename_df=df.withColumnRenamed(\"salary\",\"new_salary\").show()\n",
    "#filtered_df=df.filter(col(\"salary\")>37000).show()\n",
    "#sorted_df=df.sort(\"name\").show()\n",
    "#concat_df=df.withColumn(\"name\",concat_ws(\"_\",col(\"name\"),lit(\"kumar\"))).show()"
   ]
  }
 ],
 "metadata": {
  "application/vnd.databricks.v1+notebook": {
   "computePreferences": null,
   "dashboards": [],
   "environmentMetadata": {
    "base_environment": "",
    "environment_version": "2"
   },
   "inputWidgetPreferences": null,
   "language": "python",
   "notebookMetadata": {
    "pythonIndentUnit": 4
   },
   "notebookName": "a few transformations",
   "widgets": {}
  },
  "language_info": {
   "name": "python"
  }
 },
 "nbformat": 4,
 "nbformat_minor": 0
}
