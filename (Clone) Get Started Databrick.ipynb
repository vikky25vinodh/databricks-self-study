{
 "cells": [
  {
   "cell_type": "markdown",
   "metadata": {
    "application/vnd.databricks.v1+cell": {
     "cellMetadata": {},
     "inputWidgets": {},
     "nuid": "8cba4eec-05b2-4c82-9671-bedb78c715ad",
     "showTitle": false,
     "tableResultSettingsMap": {},
     "title": ""
    }
   },
   "source": [
    "## Explore Databricks Notebook"
   ]
  },
  {
   "cell_type": "markdown",
   "metadata": {
    "application/vnd.databricks.v1+cell": {
     "cellMetadata": {},
     "inputWidgets": {},
     "nuid": "621a4750-a04f-43df-8cfb-3b9daa1767e4",
     "showTitle": false,
     "tableResultSettingsMap": {},
     "title": ""
    }
   },
   "source": [
    "### Execute code in multiple languages using magic command\n",
    "Run language specified by language magic commands: `%python`, `%scala`, `%sql`, `%r`"
   ]
  },
  {
   "cell_type": "code",
   "execution_count": 0,
   "metadata": {
    "application/vnd.databricks.v1+cell": {
     "cellMetadata": {
      "byteLimit": 2048000,
      "rowLimit": 10000
     },
     "inputWidgets": {},
     "nuid": "5a472941-fd09-4491-9f78-df4cd5b3c39c",
     "showTitle": false,
     "tableResultSettingsMap": {},
     "title": ""
    }
   },
   "outputs": [],
   "source": [
    "# Python (default language)\n",
    "a = 7\n",
    "b = 3\n",
    "print(\"Hello from Python\")\n",
    "print(\"a+b:\", a+b)"
   ]
  },
  {
   "cell_type": "code",
   "execution_count": 0,
   "metadata": {
    "application/vnd.databricks.v1+cell": {
     "cellMetadata": {
      "byteLimit": 2048000,
      "implicitDf": true,
      "rowLimit": 10000
     },
     "inputWidgets": {},
     "nuid": "d1f0b9ac-024c-4023-811d-ff75b895f0f9",
     "showTitle": false,
     "tableResultSettingsMap": {},
     "title": ""
    }
   },
   "outputs": [],
   "source": [
    "%sql\n",
    "--SELECT \"Hello from SQL\" AS greeting;\n",
    "SELECT current_date() AS today, current_timestamp() AS now;"
   ]
  },
  {
   "cell_type": "code",
   "execution_count": 0,
   "metadata": {
    "application/vnd.databricks.v1+cell": {
     "cellMetadata": {
      "byteLimit": 2048000,
      "rowLimit": 10000
     },
     "inputWidgets": {},
     "nuid": "20130a3f-794e-4b77-9bbe-c944ced6283e",
     "showTitle": false,
     "tableResultSettingsMap": {},
     "title": ""
    }
   },
   "outputs": [],
   "source": [
    "%scala\n",
    "val data = Seq((\"Databricks\", 2025))\n",
    "data.foreach(println)"
   ]
  },
  {
   "cell_type": "code",
   "execution_count": 0,
   "metadata": {
    "application/vnd.databricks.v1+cell": {
     "cellMetadata": {
      "byteLimit": 2048000,
      "rowLimit": 10000
     },
     "inputWidgets": {},
     "nuid": "33db8080-4c7e-497f-a020-0d67d0e8d025",
     "showTitle": false,
     "tableResultSettingsMap": {},
     "title": ""
    }
   },
   "outputs": [],
   "source": [
    "%r\n",
    "x <- c(1, 2, 3, 4)\n",
    "mean(x)"
   ]
  },
  {
   "cell_type": "markdown",
   "metadata": {
    "application/vnd.databricks.v1+cell": {
     "cellMetadata": {},
     "inputWidgets": {},
     "nuid": "b223d890-4a09-4bd6-b4c5-ae3565579871",
     "showTitle": false,
     "tableResultSettingsMap": {},
     "title": ""
    }
   },
   "source": [
    "## Other magic commands in Databricks"
   ]
  },
  {
   "cell_type": "code",
   "execution_count": 0,
   "metadata": {
    "application/vnd.databricks.v1+cell": {
     "cellMetadata": {
      "byteLimit": 2048000,
      "rowLimit": 10000
     },
     "inputWidgets": {},
     "nuid": "fec6619b-a020-4a70-b4c9-ce87a2fced2c",
     "showTitle": false,
     "tableResultSettingsMap": {},
     "title": ""
    }
   },
   "outputs": [],
   "source": [
    "%sh\n",
    "echo \"Listing current directory\"\n",
    "ls -l"
   ]
  },
  {
   "cell_type": "code",
   "execution_count": 0,
   "metadata": {
    "application/vnd.databricks.v1+cell": {
     "cellMetadata": {
      "byteLimit": 2048000,
      "rowLimit": 10000
     },
     "inputWidgets": {},
     "nuid": "d18d6505-a59a-4182-88eb-26c104c0a7e8",
     "showTitle": false,
     "tableResultSettingsMap": {},
     "title": ""
    }
   },
   "outputs": [],
   "source": [
    "%sh \n",
    "ps | grep 'java'"
   ]
  },
  {
   "cell_type": "code",
   "execution_count": 0,
   "metadata": {
    "application/vnd.databricks.v1+cell": {
     "cellMetadata": {
      "byteLimit": 2048000,
      "rowLimit": 10000
     },
     "inputWidgets": {},
     "nuid": "f0b32760-cc33-43e8-810a-e59431312560",
     "showTitle": false,
     "tableResultSettingsMap": {},
     "title": ""
    }
   },
   "outputs": [],
   "source": [
    "%fs ls dbfs:/databricks-datasets/"
   ]
  },
  {
   "cell_type": "code",
   "execution_count": 0,
   "metadata": {
    "application/vnd.databricks.v1+cell": {
     "cellMetadata": {
      "byteLimit": 2048000,
      "rowLimit": 10000
     },
     "inputWidgets": {},
     "nuid": "5b7764ca-7305-4288-9907-14b9f3229a69",
     "showTitle": false,
     "tableResultSettingsMap": {},
     "title": ""
    }
   },
   "outputs": [],
   "source": [
    "%run ./runExample"
   ]
  },
  {
   "cell_type": "code",
   "execution_count": 0,
   "metadata": {
    "application/vnd.databricks.v1+cell": {
     "cellMetadata": {
      "byteLimit": 2048000,
      "rowLimit": 10000
     },
     "inputWidgets": {},
     "nuid": "d5c7cbc7-74bb-4467-8a90-0f687341900c",
     "showTitle": false,
     "tableResultSettingsMap": {},
     "title": ""
    }
   },
   "outputs": [],
   "source": [
    "print(name)"
   ]
  },
  {
   "cell_type": "code",
   "execution_count": 0,
   "metadata": {
    "application/vnd.databricks.v1+cell": {
     "cellMetadata": {
      "byteLimit": 2048000,
      "rowLimit": 10000
     },
     "inputWidgets": {},
     "nuid": "1630dc21-493d-4d94-ad66-7999a9b90fdd",
     "showTitle": false,
     "tableResultSettingsMap": {},
     "title": ""
    }
   },
   "outputs": [],
   "source": [
    "greet(\"vikky\")\n"
   ]
  },
  {
   "cell_type": "markdown",
   "metadata": {
    "application/vnd.databricks.v1+cell": {
     "cellMetadata": {},
     "inputWidgets": {},
     "nuid": "4bcc3e95-b7ea-4a6c-991e-a7cd7da2cd4e",
     "showTitle": false,
     "tableResultSettingsMap": {},
     "title": ""
    }
   },
   "source": [
    "## Markdown Commands"
   ]
  },
  {
   "cell_type": "markdown",
   "metadata": {
    "application/vnd.databricks.v1+cell": {
     "cellMetadata": {},
     "inputWidgets": {},
     "nuid": "08792761-a4c2-4ef8-9425-17029c8acf63",
     "showTitle": false,
     "tableResultSettingsMap": {},
     "title": ""
    }
   },
   "source": [
    "## Create documentation cells\n",
    "Render cell as <a href=\"https://www.markdownguide.org/cheat-sheet/\" target=\"_blank\">Markdown</a> using the magic command: `%md`  \n",
    "\n",
    "Below are some examples of how you can use Markdown to format documentation. Click this cell and press `Enter` to view the underlying Markdown syntax.\n",
    "\n",
    "\n",
    "# Heading 1\n",
    "### Heading 3\n",
    "> block quote\n",
    "\n",
    "1. **bold**\n",
    "2. *italicized*\n",
    "3. ~~strikethrough~~\n",
    "\n",
    "---\n",
    "\n",
    "- [link](https://www.markdownguide.org/cheat-sheet/)\n",
    "- `code`\n",
    "\n",
    "```\n",
    "{\n",
    "  \"message\": \"This is a code block\",\n",
    "  \"method\": \"https://www.markdownguide.org/extended-syntax/#fenced-code-blocks\",\n",
    "  \"alternative\": \"https://www.markdownguide.org/basic-syntax/#code-blocks\"\n",
    "}\n",
    "```\n",
    "\n",
    "![Spark Logo](https://upload.wikimedia.org/wikipedia/commons/e/ea/Spark-logo-192x100px.png)\n",
    "![databricks logo](https://upload.wikimedia.org/wikipedia/commons/6/63/Databricks_Logo.png)\n",
    "| Element         | Markdown Syntax |\n",
    "|-----------------|-----------------|\n",
    "| Heading         | `#H1` `##H2` `###H3` `#### H4` `##### H5` `###### H6` |\n",
    "| Block quote     | `> blockquote` |\n",
    "| Bold            | `**bold**` |\n",
    "| Italic          | `*italicized*` |\n",
    "| Strikethrough   | `~~strikethrough~~` |\n",
    "| Horizontal Rule | `---` |\n",
    "| Code            | ``` `code` ``` |\n",
    "| Link            | `[text](https://www.example.com)` |\n",
    "| Image           | `![alt text](https://raw.githubusercontent.com/pankajcloudthat/nuerealm/main/image.jpg)`|\n",
    "| Ordered List    | `1. First items` <br> `2. Second Item` <br> `3. Third Item` |\n",
    "| Unordered List  | `- First items` <br> `- Second Item` <br> `- Third Item` |\n",
    "| Code Block      | ```` ``` ```` <br> `code block` <br> ```` ``` ````|\n",
    "| Table           |<code> &#124; col &#124; col &#124; col &#124; </code> <br> <code> &#124;---&#124;---&#124;---&#124; </code> <br> <code> &#124; val &#124; val &#124; val &#124; </code> <br> <code> &#124; val &#124; val &#124; val &#124; </code> <br>|"
   ]
  },
  {
   "cell_type": "markdown",
   "metadata": {
    "application/vnd.databricks.v1+cell": {
     "cellMetadata": {},
     "inputWidgets": {},
     "nuid": "7ad2239b-bf61-4a78-ab41-c01a8e38ccfc",
     "showTitle": false,
     "tableResultSettingsMap": {},
     "title": ""
    }
   },
   "source": [
    "1. Hello\n",
    "1. My\n",
    "1. BB\n",
    "1. world\n",
    "1. Hi\n",
    "\n",
    "\n",
    "- Pankaj\n",
    "- Ravi\n",
    "- Rahul"
   ]
  },
  {
   "cell_type": "code",
   "execution_count": 0,
   "metadata": {
    "application/vnd.databricks.v1+cell": {
     "cellMetadata": {},
     "inputWidgets": {},
     "nuid": "af280fc6-ff62-43bd-9c6f-a8bde36d2853",
     "showTitle": false,
     "tableResultSettingsMap": {},
     "title": ""
    }
   },
   "outputs": [],
   "source": []
  }
 ],
 "metadata": {
  "application/vnd.databricks.v1+notebook": {
   "computePreferences": null,
   "dashboards": [],
   "environmentMetadata": {
    "base_environment": "",
    "environment_version": "2"
   },
   "inputWidgetPreferences": null,
   "language": "python",
   "notebookMetadata": {
    "mostRecentlyExecutedCommandWithImplicitDF": {
     "commandId": 1080273505077454,
     "dataframes": [
      "_sqldf"
     ]
    },
    "pythonIndentUnit": 4
   },
   "notebookName": "(Clone) Get Started Databrick",
   "widgets": {}
  },
  "language_info": {
   "name": "python"
  }
 },
 "nbformat": 4,
 "nbformat_minor": 0
}
