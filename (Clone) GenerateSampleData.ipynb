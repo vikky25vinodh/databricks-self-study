{
 "cells": [
  {
   "cell_type": "code",
   "execution_count": 0,
   "metadata": {
    "application/vnd.databricks.v1+cell": {
     "cellMetadata": {
      "byteLimit": 2048000,
      "rowLimit": 10000
     },
     "inputWidgets": {},
     "nuid": "0a302579-37fa-4dd2-9ce6-af0008ad7073",
     "showTitle": false,
     "tableResultSettingsMap": {},
     "title": ""
    }
   },
   "outputs": [],
   "source": [
    "from pyspark.sql import SparkSession\n",
    "from pyspark.sql.types import StructType, StructField, IntegerType, StringType, DoubleType, DateType\n",
    "from random import randint, choice, uniform\n",
    "from datetime import datetime, timedelta\n",
    "\n",
    "spark = SparkSession.builder.getOrCreate()\n",
    "\n",
    "# Define categories and products\n",
    "categories = [\"A\", \"B\", \"C\"]\n",
    "products = [f\"Product_{i}\" for i in range(1, 6)]\n",
    "\n",
    "# Generate 50 rows\n",
    "data = []\n",
    "start_date = datetime(2024, 6, 1)\n",
    "\n",
    "for i in range(1, 51):\n",
    "    transaction_id = i\n",
    "    transaction_date = (start_date + timedelta(days=randint(0, 9))).date()\n",
    "    category = choice(categories)\n",
    "    product = choice(products)\n",
    "    amount = round(uniform(10.0, 500.0), 2)\n",
    "    \n",
    "    data.append((transaction_id, transaction_date, category, product, amount))\n",
    "\n",
    "# Define schema\n",
    "schema = StructType([\n",
    "    StructField(\"transaction_id\", IntegerType(), False),\n",
    "    StructField(\"transaction_date\",  DateType(), False),\n",
    "    StructField(\"category\", StringType(), False),\n",
    "    StructField(\"product\", StringType(), False),\n",
    "    StructField(\"amount\", DoubleType(), False),\n",
    "])\n",
    "\n",
    "# Create DataFrame\n",
    "df = spark.createDataFrame(data, schema)\n",
    "display(df)"
   ]
  }
 ],
 "metadata": {
  "application/vnd.databricks.v1+notebook": {
   "computePreferences": null,
   "dashboards": [],
   "environmentMetadata": {
    "base_environment": "",
    "environment_version": "2"
   },
   "inputWidgetPreferences": null,
   "language": "python",
   "notebookMetadata": {
    "pythonIndentUnit": 4
   },
   "notebookName": "(Clone) GenerateSampleData",
   "widgets": {}
  },
  "language_info": {
   "name": "python"
  }
 },
 "nbformat": 4,
 "nbformat_minor": 0
}
